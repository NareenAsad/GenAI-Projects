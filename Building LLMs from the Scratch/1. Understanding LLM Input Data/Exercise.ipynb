{
 "cells": [
  {
   "cell_type": "markdown",
   "id": "05543a46",
   "metadata": {},
   "source": [
    "**Exercise: Prepare your own favorite text dataset**"
   ]
  },
  {
   "cell_type": "code",
   "execution_count": 1,
   "id": "1d24d22d",
   "metadata": {},
   "outputs": [],
   "source": [
    "import re\n",
    "import torch\n",
    "from pathlib import Path"
   ]
  },
  {
   "cell_type": "markdown",
   "id": "87630852",
   "metadata": {},
   "source": [
    "Step 1: Load your dataset"
   ]
  },
  {
   "cell_type": "code",
   "execution_count": 2,
   "id": "ffb21229",
   "metadata": {},
   "outputs": [
    {
     "name": "stdout",
     "output_type": "stream",
     "text": [
      "Original dataset length: 116203\n",
      "﻿The Project Gutenberg eBook of Mozart\n",
      "    \n",
      "This ebook is for the use of anyone anywhere in the United States and\n",
      "most other parts of the world at no cost and with almost no restrictions\n",
      "whatsoever. You may copy it, give it away or re-use it under the terms\n",
      "of the Project Gutenberg License included with this ebook or online\n",
      "at www.gutenberg.org. If you are not located in the United States,\n",
      "you will have to check the laws of the country where you are located\n",
      "before using this eBook.\n",
      "\n",
      "Ti\n"
     ]
    }
   ],
   "source": [
    "import requests\n",
    "url = \"https://www.gutenberg.org/cache/epub/69304/pg69304.txt\" # The Silver Glen\n",
    "text = requests.get(url).text\n",
    "\n",
    "\n",
    "print(\"Original dataset length:\", len(text))\n",
    "print(text[:500])"
   ]
  },
  {
   "cell_type": "markdown",
   "id": "ad14728f",
   "metadata": {},
   "source": [
    "Step 2: Clean dataset"
   ]
  },
  {
   "cell_type": "code",
   "execution_count": 4,
   "id": "3eae3068",
   "metadata": {},
   "outputs": [
    {
     "name": "stdout",
     "output_type": "stream",
     "text": [
      "Cleaned dataset length: 96621\n",
      "    start of the project gutenberg ebook mozart    \n",
      " frontispiece: mozart as a young man.    from a print by schw rer.   \n",
      "\n",
      "\n",
      "\n",
      "\n",
      "  bell's miniature series of musicians\n",
      "\n",
      "\n",
      "\n",
      "\n",
      "  mozart\n",
      "\n",
      "\n",
      "  by\n",
      "\n",
      "  ebenezer prout, b.a., mus.d.\n",
      "\n",
      "  professor of music, dublin university\n",
      "\n",
      "\n",
      "\n",
      "  london\n",
      "  george bell   sons\n",
      "  1905\n",
      "\n",
      "\n",
      "\n",
      "\n",
      "  first published, november, 1903.\n",
      "  reprinted, 1905.\n",
      "\n",
      "\n",
      "\n",
      "\n",
      "table of contents\n",
      "\n",
      "\n",
      "some books about mozart\n",
      "\n",
      "the child  1756 1768 \n",
      "\n",
      "the youth  1769 1778 \n",
      "\n",
      "the m\n"
     ]
    }
   ],
   "source": [
    "start = text.find(\"*** START\")\n",
    "end = text.find(\"*** END\")\n",
    "if start != -1 and end != -1:\n",
    "    text = text[start:end]\n",
    "\n",
    "\n",
    "# Simple cleaning (customize as needed)\n",
    "text = text.lower()\n",
    "text = re.sub(r\"[^a-z0-9\\s\\.\\,\\;\\:\\'\\!\\?]\", \" \", text)\n",
    "\n",
    "\n",
    "print(\"Cleaned dataset length:\", len(text))\n",
    "print(text[:500])"
   ]
  },
  {
   "cell_type": "markdown",
   "id": "e5f02a08",
   "metadata": {},
   "source": [
    "Step 3: Tokenizer (character-level)"
   ]
  },
  {
   "cell_type": "code",
   "execution_count": 5,
   "id": "302e4e41",
   "metadata": {},
   "outputs": [
    {
     "name": "stdout",
     "output_type": "stream",
     "text": [
      "Vocab size: 46\n",
      "Encoding 'glen': [26, 31, 24, 33]\n"
     ]
    }
   ],
   "source": [
    "vocab = sorted(set(text))\n",
    "stoi = {ch: i for i, ch in enumerate(vocab)}\n",
    "itos = {i: ch for i, ch in enumerate(vocab)}\n",
    "\n",
    "\n",
    "encode = lambda s: [stoi[c] for c in s] # string -> list of ints\n",
    "decode = lambda l: \"\".join([itos[i] for i in l]) # list of ints -> string\n",
    "\n",
    "\n",
    "print(\"Vocab size:\", len(vocab))\n",
    "print(\"Encoding 'glen':\", encode(\"glen\"))"
   ]
  },
  {
   "cell_type": "markdown",
   "id": "641e2be7",
   "metadata": {},
   "source": [
    "Step 4: Encode dataset + split"
   ]
  },
  {
   "cell_type": "code",
   "execution_count": 6,
   "id": "c81ef597",
   "metadata": {},
   "outputs": [
    {
     "name": "stdout",
     "output_type": "stream",
     "text": [
      "Train size: 86958 Val size: 9663\n"
     ]
    }
   ],
   "source": [
    "data = torch.tensor(encode(text), dtype=torch.long)\n",
    "n = int(0.9 * len(data))\n",
    "train_data = data[:n]\n",
    "val_data = data[n:]\n",
    "\n",
    "\n",
    "print(\"Train size:\", len(train_data), \"Val size:\", len(val_data))"
   ]
  },
  {
   "cell_type": "markdown",
   "id": "b7014cad",
   "metadata": {},
   "source": [
    "Step 5: Batch generator"
   ]
  },
  {
   "cell_type": "code",
   "execution_count": 8,
   "id": "95f3a82a",
   "metadata": {},
   "outputs": [
    {
     "name": "stdout",
     "output_type": "stream",
     "text": [
      "X shape: torch.Size([4, 16]) Y shape: torch.Size([4, 16])\n",
      "Decoded X[0]: fonie\n",
      "concertan\n",
      "Decoded Y[0]: onie\n",
      "concertant\n"
     ]
    }
   ],
   "source": [
    "block_size = 16 # sequence length\n",
    "batch_size = 4 # number of sequences per batch\n",
    "\n",
    "\n",
    "def get_batch(split):\n",
    "    data = train_data if split == \"train\" else val_data\n",
    "    ix = torch.randint(len(data) - block_size, (batch_size,))\n",
    "    x = torch.stack([data[i:i+block_size] for i in ix])\n",
    "    y = torch.stack([data[i+1:i+block_size+1] for i in ix])\n",
    "    return x, y\n",
    "\n",
    "\n",
    "xb, yb = get_batch(\"train\")\n",
    "print(\"X shape:\", xb.shape, \"Y shape:\", yb.shape)\n",
    "print(\"Decoded X[0]:\", decode(xb[0].tolist()))\n",
    "print(\"Decoded Y[0]:\", decode(yb[0].tolist()))"
   ]
  }
 ],
 "metadata": {
  "kernelspec": {
   "display_name": "Python 3",
   "language": "python",
   "name": "python3"
  },
  "language_info": {
   "codemirror_mode": {
    "name": "ipython",
    "version": 3
   },
   "file_extension": ".py",
   "mimetype": "text/x-python",
   "name": "python",
   "nbconvert_exporter": "python",
   "pygments_lexer": "ipython3",
   "version": "3.10.18"
  }
 },
 "nbformat": 4,
 "nbformat_minor": 5
}
